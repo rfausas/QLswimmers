{
 "cells": [
  {
   "cell_type": "markdown",
   "metadata": {
    "colab_type": "text",
    "id": "view-in-github"
   },
   "source": [
    "<a href=\"https://colab.research.google.com/github/rfausas/QLswimmers/blob/master/QLAnalis_roberto.ipynb\" target=\"_parent\"><img src=\"https://colab.research.google.com/assets/colab-badge.svg\" alt=\"Open In Colab\"/></a>"
   ]
  },
  {
   "cell_type": "code",
   "execution_count": null,
   "metadata": {
    "id": "6u1HGfXA-51I"
   },
   "outputs": [],
   "source": [
    "import numpy as np\n",
    "import os\n",
    "import copy\n",
    "import matplotlib.pylab as plt\n",
    "import scipy.signal\n"
   ]
  },
  {
   "cell_type": "code",
   "execution_count": null,
   "metadata": {
    "id": "53E0x0e0CPIm"
   },
   "outputs": [],
   "source": [
    "#experiencias geradas com codigo Swimmer_analise.py\n",
    "case = 1\n",
    "\n",
    "if case == 1:\n",
    "  !wget https://github.com/rfausas/QLswimmers/raw/master/Estudo_Swimmer/evolqlquantities.txt -O evolqlquantities.txt &> /dev/null\n",
    "    "
   ]
  },
  {
   "cell_type": "code",
   "execution_count": null,
   "metadata": {},
   "outputs": [],
   "source": []
  },
  {
   "cell_type": "code",
   "execution_count": null,
   "metadata": {
    "id": "v6RRGO9t2YQO"
   },
   "outputs": [],
   "source": [
    "tbtp = 'f'\n",
    "tbcase = 9\n",
    "\n",
    "if tbtp == 'f':\n",
    "      if tbcase == 1:\n",
    "          !wget https://raw.githubusercontent.com/lucianodellier/Estudo_Swimmer/main/DELTAS/DELTASfino/theta5/deltas.txt -O deltas.txt &> /dev/null\n",
    "      elif tbcase == 2:\n",
    "          !wget https://raw.githubusercontent.com/lucianodellier/Estudo_Swimmer/main/DELTAS/DELTASfino/theta10/deltas.txt -O deltas.txt &> /dev/null \n",
    "      elif tbcase == 3:\n",
    "          !wget https://raw.githubusercontent.com/lucianodellier/Estudo_Swimmer/main/DELTAS/DELTASfino/theta15/deltas.txt -O deltas.txt &> /dev/null\n",
    "      elif tbcase == 4:\n",
    "          !wget https://raw.githubusercontent.com/lucianodellier/Estudo_Swimmer/main/DELTAS/DELTASfino/theta20/deltas.txt -O deltas.txt &> /dev/null\n",
    "      elif tbcase == 5:\n",
    "          !wget https://raw.githubusercontent.com/lucianodellier/Estudo_Swimmer/main/DELTAS/DELTASfino/theta25/deltas.txt -O deltas.txt &> /dev/null\n",
    "      elif tbcase == 6:\n",
    "          !wget https://raw.githubusercontent.com/lucianodellier/Estudo_Swimmer/main/DELTAS/DELTASfino/theta30/deltas.txt -O deltas.txt &> /dev/null\n",
    "      elif tbcase == 7:\n",
    "          !wget https://raw.githubusercontent.com/lucianodellier/Estudo_Swimmer/main/DELTAS/DELTASfino/theta35/deltas.txt -O deltas.txt &> /dev/null\n",
    "      elif tbcase == 8:\n",
    "          !wget https://raw.githubusercontent.com/lucianodellier/Estudo_Swimmer/main/DELTAS/DELTASfino/theta40/deltas.txt -O deltas.txt &> /dev/null\n",
    "      elif tbcase == 9:\n",
    "          !wget https://raw.githubusercontent.com/lucianodellier/Estudo_Swimmer/main/DELTAS/DELTASfino/theta45/deltas.txt -O deltas.txt &> /dev/null                               \n",
    "elif tbtp == 'i':  \n",
    "    if tbcase == 1:\n",
    "        !wget https://raw.githubusercontent.com/lucianodellier/Estudo_Swimmer/main/DELTAS/DELTASgrosso/theta5/deltas.txt -O deltas.txt &> /dev/null\n",
    "    elif tbcase == 2:\n",
    "        !wget https://raw.githubusercontent.com/lucianodellier/Estudo_Swimmer/main/DELTAS/DELTASgrosso/theta10/deltas.txt -O deltas.txt &> /dev/null \n",
    "    elif tbcase == 3:\n",
    "        !wget https://raw.githubusercontent.com/lucianodellier/Estudo_Swimmer/main/DELTAS/DELTASgrosso/theta15/deltas.txt -O deltas.txt &> /dev/null\n",
    "    elif tbcase == 4:\n",
    "        !wget https://raw.githubusercontent.com/lucianodellier/Estudo_Swimmer/main/DELTAS/DELTASgrosso/theta20/deltas.txt -O deltas.txt &> /dev/null\n",
    "    elif tbcase == 5:\n",
    "        !wget https://raw.githubusercontent.com/lucianodellier/Estudo_Swimmer/main/DELTAS/DELTASgrosso/theta25/deltas.txt -O deltas.txt &> /dev/null\n",
    "    elif tbcase == 6:\n",
    "        !wget https://raw.githubusercontent.com/lucianodellier/Estudo_Swimmer/main/DELTAS/DELTASgrosso/theta30/deltas.txt -O deltas.txt &> /dev/null\n",
    "    elif tbcase == 7:\n",
    "        !wget https://raw.githubusercontent.com/lucianodellier/Estudo_Swimmer/main/DELTAS/DELTASgrosso/theta35/deltas.txt -O deltas.txt &> /dev/null\n",
    "    elif tbcase == 8:\n",
    "        !wget https://raw.githubusercontent.com/lucianodellier/Estudo_Swimmer/main/DELTAS/DELTASgrosso/theta40/deltas.txt -O deltas.txt &> /dev/null\n",
    "    elif tbcase == 9:\n",
    "        !wget https://raw.githubusercontent.com/lucianodellier/Estudo_Swimmer/main/DELTAS/DELTASgrosso/theta45/deltas.txt -O deltas.txt &> /dev/null "
   ]
  },
  {
   "cell_type": "code",
   "execution_count": null,
   "metadata": {
    "colab": {
     "base_uri": "https://localhost:8080/"
    },
    "id": "wTBVBmm9GHSW",
    "outputId": "75a7d401-9df1-407d-e441-26287afe83e2"
   },
   "outputs": [
    {
     "name": "stdout",
     "output_type": "stream",
     "text": [
      "50000 48\n"
     ]
    }
   ],
   "source": [
    "dir_   = '.'\n",
    "eqlfile = 'evolqlquantities1M.txt'\n",
    "EQL = np.loadtxt(dir_+'/'+eqlfile, delimiter=',', skiprows=1)\n",
    "\n",
    "deltasfile = 'DELTAS/DELTASfino/theta45/deltas.txt'\n",
    "DELTAS = np.loadtxt(dir_+'/'+deltasfile)\n",
    "\n",
    "print(len(EQL), len(DELTAS))\n"
   ]
  },
  {
   "cell_type": "code",
   "execution_count": null,
   "metadata": {
    "id": "gP4ewQbUcHgh"
   },
   "outputs": [],
   "source": [
    "nballs = 4\n",
    "nlinks = nballs-1\n",
    "nstates = 2**nlinks\n",
    "nactions = nlinks\n",
    "ndeltas = 6\n",
    "\n",
    "tfdata = len(EQL) \n",
    "nqlsteps = tfdata\n",
    "\n",
    "s_batch  = np.asarray(EQL[:tfdata,0],dtype=np.int32)\n",
    "a_batch  = np.asarray(EQL[:tfdata,1],dtype=np.int32)\n",
    "sn_batch = np.asarray(EQL[:tfdata,2],dtype=np.int32)\n",
    "x_batch = np.asarray(EQL[:tfdata,3],dtype=np.int32)\n",
    "y_batch = np.asarray(EQL[:tfdata,4],dtype=np.int32)\n",
    "xn_batch = np.asarray(EQL[:tfdata,5],dtype=np.int32)\n",
    "yn_batch = np.asarray(EQL[:tfdata,6],dtype=np.int32)\n",
    "theta_batch = np.asarray(EQL[:tfdata,7],dtype=np.int32)\n",
    "thetan_batch = np.asarray(EQL[:tfdata,8],dtype=np.int32)\n",
    "\n",
    "Lx, Ly = 3 * 150.0, 3 * 150.0\n",
    "xc_ini, yc_ini = Lx/2.0, Ly/2.0\n",
    "\n",
    "rcase = 4\n",
    "\n",
    "if (rcase == 1): #rotation\n",
    "    r_batch = EQL[:tfdata,8] - EQL[:tfdata,7]\n",
    "elif (rcase == 2): #translation\n",
    "    r_batch = xn_batch - x_batch \n",
    "elif (rcase == 3): #escape from initial point\n",
    "    distn = np.sqrt((xn_batch - xc_ini)**2 + (yn_batch - yc_ini)**2)\n",
    "    dist = np.sqrt((x_batch - xc_ini)**2 + (y_batch - yc_ini)**2)\n",
    "    r_batch = distn - dist\n",
    "elif (rcase == 4):\n",
    "    deltax = xn_batch - x_batch\n",
    "    deltay = yn_batch - y_batch\n",
    "    #thetaup = 1.5*np.pi\n",
    "    #thetalo = 0.5*np.pi\n",
    "    thetalo = 0.5*np.pi\n",
    "    thetaup = 0.75*np.pi\n",
    "    angle = np.arctan2(deltay,deltax)\n",
    "    r_batch = -1.0*np.ones(tfdata)\n",
    "    #r_batch[np.where(angle > thetalo and angle < thetaup)] = 1.0\n",
    "    for it in range(tfdata):\n",
    "      if(angle[it] < 0):\n",
    "        angle[it] += 2.0*np.pi\n",
    "      if(angle[it] > thetalo and angle[it] < thetaup):\n",
    "        r_batch[it] = 1.0\n",
    "    \n"
   ]
  },
  {
   "cell_type": "code",
   "execution_count": null,
   "metadata": {
    "id": "mdTw20Wvhhe2"
   },
   "outputs": [],
   "source": [
    "def QL_steps_sb(s_batch,sn_batch,a_batch,r_batch,alpha,gamma,replay_step,nreplay):\n",
    "  # Initilize QL matrix\n",
    "\n",
    "  MQL  = np.zeros((nstates,nactions))\n",
    "  MQLn = np.zeros((nstates,nactions))\n",
    "  DMQL = []\n",
    "\n",
    "  # QL steps\n",
    "  for it in range(nqlsteps):   \n",
    "    \n",
    "    # Learning  #######################################################    \n",
    "    prev_state_dec  = s_batch[it]\n",
    "    next_action_dec = a_batch[it]\n",
    "    next_state_dec  = sn_batch[it]\n",
    "    next_MQLmax     = np.max(MQL[next_state_dec,:])\n",
    "    next_MQLmax_inverse     = np.max(MQL[prev_state_dec,:])\n",
    "    current_MQLval  = MQL[prev_state_dec,next_action_dec]\n",
    "    current_MQLval_inverse  = MQL[prev_state_dec,next_action_dec]\n",
    "    current_reward  = r_batch[it]    \n",
    "\n",
    "    MQL[prev_state_dec,next_action_dec] = (1-alpha)*current_MQLval + \\\n",
    "      alpha*(current_reward + gamma*next_MQLmax)\n",
    "\n",
    "    MQL[next_state_dec,next_action_dec] = (1-alpha)*current_MQLval_inverse + \\\n",
    "      alpha*(-current_reward + gamma*next_MQLmax_inverse)   \n",
    "\n",
    "    if replay_step > 0 and it%replay_step == 0:\n",
    "      MQL, DMQL = replay_sb(MQL,s_batch,sn_batch,a_batch,r_batch,alpha,gamma,nreplay,DMQL)\n",
    "      #MQL, DMQL = replay_sb(MQL,s_batch[it-nbatch:it],sn_batch[it-nbatch:it],a_batch[it-nbatch:it],r_batch[it-nbatch:it],alpha,gamma,nreplay,DMQL)\n",
    "\n",
    "    DMQL.append(np.linalg.norm(MQL-MQLn))\n",
    "    MQLn = copy.deepcopy(MQL)    \n",
    "\n",
    "  return MQL, DMQL\n",
    "\n",
    "\n",
    "def replay_sb(MQL,s_batch,sn_batch,a_batch,r_batch,alpha,gamma,nreplay,DMQL):\n",
    " \n",
    "   MQLC = copy.deepcopy(MQL)\n",
    "   MQLn = copy.deepcopy(MQL)\n",
    "\n",
    "   for i in range(nreplay):     \n",
    "      rl = np.random.randint(s_batch.shape[0], size=1)[0]\n",
    "      prev_state_dec    = s_batch[rl]\n",
    "      next_action_dec   = a_batch[rl]\n",
    "      next_state_dec    = sn_batch[rl]\n",
    "      next_MQLmax       = np.max(MQLC[next_state_dec,:])\n",
    "      next_MQLmax_inv   = np.max(MQL[prev_state_dec,:])\n",
    "      current_MQLval    = MQLC[prev_state_dec,next_action_dec]\n",
    "      current_MQLval_inv= MQLC[prev_state_dec,next_action_dec]\n",
    "      current_reward    = r_batch[rl]\n",
    "      \n",
    "      MQLC[prev_state_dec,next_action_dec] = (1-alpha)*current_MQLval + \\\n",
    "         alpha*(current_reward + gamma*next_MQLmax)\n",
    "\n",
    "      MQLC[next_state_dec,next_action_dec] = (1-alpha)*current_MQLval_inv + \\\n",
    "         alpha*(-current_reward + gamma*next_MQLmax_inv)\n",
    "         \n",
    "      DMQL.append(DMQL.append(np.linalg.norm(MQLC-MQLn))) #np.max(MQLC-MQLn)\n",
    "      MQLn = copy.deepcopy(MQLC)\n",
    "   \n",
    "   return MQLC, DMQL  \n",
    "\n",
    "def ReadDeltasTables(ndeltas, nstates, nactions, filetable):            \n",
    "    \n",
    "    A = filetable\n",
    "    Deltas = []\n",
    "    for d in range(ndeltas):\n",
    "        Deltas.append(np.zeros(shape=(nstates, nactions)))\n",
    "        for state in range(nstates):\n",
    "            Deltas[d][state, :] = A[d * nstates + state, :]\n",
    "    return Deltas \n",
    "\n",
    "def find_gait_sb(state_dec, MQL):\n",
    "  vel = 0.0\n",
    "  slist = []\n",
    "  alist = []\n",
    "  xlist = [xc_ini]\n",
    "  ylist = [yc_ini]\n",
    "  thetalist = [0.0]\n",
    "  current_state_dec = state_dec\n",
    "  Deltas = ReadDeltasTables(ndeltas, nstates, nactions, DELTAS)\n",
    "  current_disp = np.zeros(2)\n",
    "  k = 0\n",
    "  vel1 = vel2 = 0\n",
    "  aux = np.zeros(2)\n",
    "  for j in range(1000):\n",
    "    action = np.zeros(nlinks, dtype=int)\n",
    "    aux_current = np.array([int(i) for i in np.binary_repr(current_state_dec,width=nlinks)])\n",
    "    action[np.argmax(MQL[current_state_dec,:])] = 1\n",
    "    action_dec = np.argmax(MQL[current_state_dec,:])\n",
    "    aux_state = np.remainder(aux_current+action,2*np.ones(nlinks, dtype=int))    \n",
    "    next_state_dec = np.dot(aux_state,2**np.arange(nlinks-1,-1,-1,dtype=int))    \n",
    "    \n",
    "    if(j>99):\n",
    "      if (rcase == 1):\n",
    "        vel1 += (Deltas[2][current_state_dec, action.argmax()] - Deltas[2][next_state_dec, action.argmax()])/2\n",
    "      elif (rcase == 2 or rcase == 3 or rcase == 4):\n",
    "        Rmatrix = np.array([\n",
    "                            [np.cos(thetalist[j]), -np.sin(thetalist[j])],\n",
    "                            [np.sin(thetalist[j]),  np.cos(thetalist[j])],\n",
    "                           ])\n",
    "        current_disp[0] = Deltas[0][current_state_dec, action.argmax()]\n",
    "        current_disp[1] = Deltas[1][current_state_dec, action.argmax()]\n",
    "        aux = Rmatrix @ current_disp\n",
    "        if(j > 900):\n",
    "          vel1 += aux[0]\n",
    "          vel2 += aux[1]\n",
    "\n",
    "    xlist.append(xlist[j] + aux[0])\n",
    "    ylist.append(ylist[j] + aux[1])\n",
    "    thetalist.append(thetalist[j] + Deltas[2][current_state_dec, action.argmax()])\n",
    "    \n",
    "    slist.append(current_state_dec)\n",
    "    alist.append(action_dec)\n",
    "    \n",
    "    current_state_dec = next_state_dec \n",
    "  \n",
    "  vel1 = vel1/100\n",
    "  vel2 = vel2/100\n",
    "  return slist[990:1000], alist[990:1000], vel1, vel2, xlist[900:1000], ylist[900:1000], thetalist[900:1000]\n",
    " \n",
    "  "
   ]
  },
  {
   "cell_type": "code",
   "execution_count": null,
   "metadata": {
    "colab": {
     "base_uri": "https://localhost:8080/"
    },
    "id": "v8ZP8DQPqKab",
    "outputId": "b870bb9a-880c-4d59-a2ce-68ef28409777"
   },
   "outputs": [
    {
     "name": "stdout",
     "output_type": "stream",
     "text": [
      "alpha = 1.0, gamma = 0.990, dQ = 2.399346e+00, [2, 0, 4, 6, 2, 0, 4, 6, 2, 0], [1, 0, 1, 0, 1, 0, 1, 0, 1, 0], vel1 = 0.03185, vel2 = 0.04958, velmod = 0.05893\n",
      "alpha = 1.0, gamma = 0.900, dQ = 2.367331e+00, [2, 0, 4, 6, 2, 0, 4, 6, 2, 0], [1, 0, 1, 0, 1, 0, 1, 0, 1, 0], vel1 = 0.03185, vel2 = 0.04958, velmod = 0.05893\n",
      "alpha = 1.0, gamma = 0.800, dQ = 2.332145e+00, [2, 0, 4, 6, 2, 0, 4, 6, 2, 0], [1, 0, 1, 0, 1, 0, 1, 0, 1, 0], vel1 = 0.03185, vel2 = 0.04958, velmod = 0.05893\n",
      "alpha = 1.0, gamma = 0.700, dQ = 2.297418e+00, [2, 0, 4, 6, 2, 0, 4, 6, 2, 0], [1, 0, 1, 0, 1, 0, 1, 0, 1, 0], vel1 = 0.03185, vel2 = 0.04958, velmod = 0.05893\n",
      "alpha = 0.9, gamma = 0.990, dQ = 2.195474e+00, [4, 6, 7, 3, 2, 0, 4, 6, 7, 3], [1, 2, 0, 2, 1, 0, 1, 2, 0, 2], vel1 = 0.05327, vel2 = 0.04384, velmod = 0.06899\n",
      "alpha = 0.9, gamma = 0.900, dQ = 2.161195e+00, [4, 6, 7, 3, 2, 0, 4, 6, 7, 3], [1, 2, 0, 2, 1, 0, 1, 2, 0, 2], vel1 = 0.05327, vel2 = 0.04384, velmod = 0.06899\n",
      "alpha = 0.9, gamma = 0.800, dQ = 2.128322e+00, [4, 6, 7, 3, 2, 0, 4, 6, 7, 3], [1, 2, 0, 2, 1, 0, 1, 2, 0, 2], vel1 = 0.05327, vel2 = 0.04384, velmod = 0.06899\n",
      "alpha = 0.9, gamma = 0.700, dQ = 2.097310e+00, [4, 6, 7, 3, 2, 0, 4, 6, 7, 3], [1, 2, 0, 2, 1, 0, 1, 2, 0, 2], vel1 = 0.05327, vel2 = 0.04384, velmod = 0.06899\n",
      "alpha = 0.8, gamma = 0.990, dQ = 1.983316e+00, [4, 6, 7, 3, 2, 0, 4, 6, 7, 3], [1, 2, 0, 2, 1, 0, 1, 2, 0, 2], vel1 = 0.05327, vel2 = 0.04384, velmod = 0.06899\n",
      "alpha = 0.8, gamma = 0.900, dQ = 1.948500e+00, [4, 6, 7, 3, 2, 0, 4, 6, 7, 3], [1, 2, 0, 2, 1, 0, 1, 2, 0, 2], vel1 = 0.05327, vel2 = 0.04384, velmod = 0.06899\n",
      "alpha = 0.8, gamma = 0.800, dQ = 1.916686e+00, [4, 6, 7, 3, 2, 0, 4, 6, 7, 3], [1, 2, 0, 2, 1, 0, 1, 2, 0, 2], vel1 = 0.05327, vel2 = 0.04384, velmod = 0.06899\n",
      "alpha = 0.8, gamma = 0.700, dQ = 1.888984e+00, [4, 6, 7, 3, 2, 0, 4, 6, 7, 3], [1, 2, 0, 2, 1, 0, 1, 2, 0, 2], vel1 = 0.05327, vel2 = 0.04384, velmod = 0.06899\n",
      "alpha = 0.6, gamma = 0.990, dQ = 1.544874e+00, [4, 6, 7, 3, 2, 0, 4, 6, 7, 3], [1, 2, 0, 2, 1, 0, 1, 2, 0, 2], vel1 = 0.05327, vel2 = 0.04384, velmod = 0.06899\n",
      "alpha = 0.6, gamma = 0.900, dQ = 1.507990e+00, [4, 6, 7, 3, 2, 0, 4, 6, 7, 3], [1, 2, 0, 2, 1, 0, 1, 2, 0, 2], vel1 = 0.05327, vel2 = 0.04384, velmod = 0.06899\n",
      "alpha = 0.6, gamma = 0.800, dQ = 1.480728e+00, [4, 6, 7, 3, 2, 0, 4, 6, 7, 3], [1, 2, 0, 2, 1, 0, 1, 2, 0, 2], vel1 = 0.05327, vel2 = 0.04384, velmod = 0.06899\n",
      "alpha = 0.6, gamma = 0.700, dQ = 1.459157e+00, [4, 6, 7, 3, 2, 0, 4, 6, 7, 3], [1, 2, 0, 2, 1, 0, 1, 2, 0, 2], vel1 = 0.05327, vel2 = 0.04384, velmod = 0.06899\n"
     ]
    }
   ],
   "source": [
    "gammalist = [0.99, 0.9, 0.8, 0.7]\n",
    "alphalist = [1.0, 0.9, 0.8, 0.6]\n",
    "\n",
    "nreplay = 100\n",
    "replay_step = 0\n",
    "\n",
    "for alpha in alphalist:\n",
    "  for gamma in gammalist:\n",
    "    MQL, DMQL = QL_steps_sb(s_batch,sn_batch,a_batch,r_batch,alpha,gamma,replay_step,nreplay)\n",
    "\n",
    "    prev_state_dec  = s_batch[-1]\n",
    "    slist, alist, vel1, vel2, xlist, ylist, thetalist = find_gait_sb(prev_state_dec, MQL)\n",
    "    FDMQL = scipy.signal.savgol_filter(DMQL,15,0)    \n",
    "    print(f'alpha = {alpha}, gamma = {gamma:.3f}, dQ = {FDMQL[-1]:e}, {slist}, {alist}, vel1 = {vel1:.5f}, vel2 = {vel2:.5f}, velmod = {np.sqrt(vel1**2+vel2**2):.5f}')    \n",
    " \n",
    "    "
   ]
  },
  {
   "cell_type": "code",
   "execution_count": null,
   "metadata": {
    "colab": {
     "base_uri": "https://localhost:8080/",
     "height": 314
    },
    "id": "GjslYIIh1aG1",
    "outputId": "56fc1001-c0a7-412b-f936-35a91fa5b8ac"
   },
   "outputs": [
    {
     "name": "stdout",
     "output_type": "stream",
     "text": [
      "alpha = 0.9, gamma = 0.900, dQ = 2.161195e+00, [4, 6, 7, 3, 2, 0, 4, 6, 7, 3], [1, 2, 0, 2, 1, 0, 1, 2, 0, 2], vel1 = 0.05327, vel2 = 0.04384, velmod = 0.06899\n"
     ]
    },
    {
     "data": {
      "image/png": "[encoded data removed]",
      "text/plain": [
       "<Figure size 432x288 with 1 Axes>"
      ]
     },
     "metadata": {
      "needs_background": "light"
     },
     "output_type": "display_data"
    }
   ],
   "source": [
    "alpha = 0.9\n",
    "gamma = 0.9\n",
    "\n",
    "MQL, DMQL = QL_steps_sb(s_batch,sn_batch,a_batch,r_batch,alpha,gamma,replay_step,nreplay)\n",
    "prev_state_dec  = s_batch[-1]\n",
    "slist, alist, vel1, vel2, xlist, ylist, thetalist = find_gait_sb(prev_state_dec, MQL)\n",
    "FDMQL = scipy.signal.savgol_filter(DMQL,15,0)    \n",
    "print(f'alpha = {alpha}, gamma = {gamma:.3f}, dQ = {FDMQL[-1]:e}, {slist}, {alist}, vel1 = {vel1:.5f}, vel2 = {vel2:.5f}, velmod = {np.sqrt(vel1**2+vel2**2):.5f}')   \n",
    "\n",
    "fig, axs = plt.subplots(1, 1)\n",
    "axs.plot(xlist, ylist)\n",
    "axs.set_aspect('equal', 'box')\n",
    "axs.grid()\n",
    "#axs.set(xlim=(210, 240), ylim=(210, 240))\n",
    "axs.set_title('Trajectory', fontsize=10)\n",
    "fig.tight_layout()\n",
    "plt.show()"
   ]
  },
  {
   "cell_type": "code",
   "execution_count": 5,
   "metadata": {
    "colab": {
     "base_uri": "https://localhost:8080/"
    },
    "id": "KSTkdV1diPIE",
    "outputId": "48d32adf-482c-4115-9c99-762a18f79c4a"
   },
   "outputs": [
    {
     "name": "stdout",
     "output_type": "stream",
     "text": [
      "0\n",
      "1\n",
      "2\n",
      "3\n",
      "4\n",
      "5\n",
      "6\n",
      "7\n",
      "0\n",
      "1\n",
      "2\n",
      "3\n",
      "4\n",
      "5\n",
      "6\n",
      "7\n",
      "0\n",
      "1\n",
      "2\n",
      "{(5, 2, 1, 4, 7, 8): 0, (2, 1, 4, 7, 8, 1): 1, (1, 4, 7, 8, 1, 5): 2, (4, 7, 8, 1, 5, 5): 3, (7, 8, 1, 5, 5, 2): 4, (8, 1, 5, 5, 2, 1): 5, (1, 5, 5, 2, 1, 4): 6, (5, 5, 2, 1, 4, 7): 7}\n"
     ]
    }
   ],
   "source": [
    "import numpy as np\n",
    "A=[5,2,1,4,7,8,1,5,5,2,1,4,7,8,1,5,5,2,1,4,7,8,1,5,5,2,1,4,7,8,1,5]\n",
    "S=dict()\n",
    "L=7+1\n",
    "for i in range(len(A)-L+1):\n",
    "    key=tuple(A[i:i+L])\n",
    "    if key in S:\n",
    "        print (S[key])\n",
    "    else:\n",
    "        S[key] = i\n",
    "print(S)"
   ]
  }
 ],
 "metadata": {
  "colab": {
   "collapsed_sections": [],
   "include_colab_link": true,
   "name": "QLAnalis_roberto.ipynb",
   "provenance": []
  },
  "kernelspec": {
   "display_name": "Python 3",
   "language": "python",
   "name": "python3"
  },
  "language_info": {
   "codemirror_mode": {
    "name": "ipython",
    "version": 3
   },
   "file_extension": ".py",
   "mimetype": "text/x-python",
   "name": "python",
   "nbconvert_exporter": "python",
   "pygments_lexer": "ipython3",
   "version": "3.6.9"
  },
  "latex_envs": {
   "LaTeX_envs_menu_present": true,
   "autoclose": false,
   "autocomplete": true,
   "bibliofile": "biblio.bib",
   "cite_by": "apalike",
   "current_citInitial": 1,
   "eqLabelWithNumbers": true,
   "eqNumInitial": 1,
   "hotkeys": {
    "equation": "Ctrl-E",
    "itemize": "Ctrl-I"
   },
   "labels_anchors": false,
   "latex_user_defs": false,
   "report_style_numbering": false,
   "user_envs_cfg": false
  },
  "toc": {
   "base_numbering": 1,
   "nav_menu": {},
   "number_sections": true,
   "sideBar": true,
   "skip_h1_title": false,
   "title_cell": "Table of Contents",
   "title_sidebar": "Contents",
   "toc_cell": false,
   "toc_position": {},
   "toc_section_display": true,
   "toc_window_display": true
  }
 },
 "nbformat": 4,
 "nbformat_minor": 1
}

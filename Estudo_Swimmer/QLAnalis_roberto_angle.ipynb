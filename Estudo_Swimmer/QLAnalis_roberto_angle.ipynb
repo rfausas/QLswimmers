{
 "cells": [
  {
   "cell_type": "markdown",
   "metadata": {
    "colab_type": "text",
    "id": "view-in-github"
   },
   "source": [
    "<a href=\"https://colab.research.google.com/github/rfausas/QLswimmers/blob/master/QLAnalis_roberto.ipynb\" target=\"_parent\"><img src=\"https://colab.research.google.com/assets/colab-badge.svg\" alt=\"Open In Colab\"/></a>"
   ]
  },
  {
   "cell_type": "code",
   "execution_count": 99,
   "metadata": {
    "id": "6u1HGfXA-51I"
   },
   "outputs": [],
   "source": [
    "import numpy as np\n",
    "import os\n",
    "import copy\n",
    "import matplotlib.pylab as plt\n",
    "import scipy.signal\n"
   ]
  },
  {
   "cell_type": "code",
   "execution_count": 134,
   "metadata": {
    "colab": {
     "base_uri": "https://localhost:8080/"
    },
    "id": "wTBVBmm9GHSW",
    "outputId": "75a7d401-9df1-407d-e441-26287afe83e2"
   },
   "outputs": [
    {
     "name": "stdout",
     "output_type": "stream",
     "text": [
      "(200000, 9) 48\n"
     ]
    }
   ],
   "source": [
    "dir_   = '.'\n",
    "eqlfile = 'evolqlquantities.txt'\n",
    "EQL = np.loadtxt(dir_+'/'+eqlfile, delimiter=',', skiprows=1)\n",
    "\n",
    "deltasfile = 'DELTAS/DELTASfino/theta45/deltas.txt'\n",
    "DELTAS = np.loadtxt(dir_+'/'+deltasfile)\n",
    "\n",
    "print(EQL.shape, len(DELTAS))\n"
   ]
  },
  {
   "cell_type": "code",
   "execution_count": 150,
   "metadata": {
    "id": "gP4ewQbUcHgh"
   },
   "outputs": [],
   "source": [
    "nballs = 4\n",
    "nlinks = nballs-1\n",
    "nstates = 2**nlinks\n",
    "nactions = nlinks\n",
    "ndeltas = 6\n",
    "\n",
    "tfdata = len(EQL) \n",
    "nqlsteps = tfdata\n",
    "\n",
    "# Here, the letter \"n\" in the name of a variable, means \"next\"\n",
    "\n",
    "s_batch  = np.asarray(EQL[:tfdata,0],dtype=np.int32)\n",
    "a_batch  = np.asarray(EQL[:tfdata,1],dtype=np.int32)\n",
    "sn_batch = np.asarray(EQL[:tfdata,2],dtype=np.int32)\n",
    "x_batch  = np.asarray(EQL[:tfdata,3],dtype=np.int32)\n",
    "y_batch  = np.asarray(EQL[:tfdata,4],dtype=np.int32)\n",
    "xn_batch = np.asarray(EQL[:tfdata,5],dtype=np.int32)\n",
    "yn_batch = np.asarray(EQL[:tfdata,6],dtype=np.int32)\n",
    "theta_batch  = np.asarray(EQL[:tfdata,7],dtype=np.int32)\n",
    "thetan_batch = np.asarray(EQL[:tfdata,8],dtype=np.int32)\n",
    "\n",
    "Lx, Ly = 3 * 150.0, 3 * 150.0\n",
    "xc_ini, yc_ini = Lx/2.0, Ly/2.0\n",
    "\n",
    "rcase = 4\n",
    "\n",
    "if (rcase == 1): #rotation\n",
    "    r_batch = EQL[:tfdata,8] - EQL[:tfdata,7]\n",
    "elif (rcase == 2): #translation\n",
    "    r_batch = xn_batch - x_batch \n",
    "elif (rcase == 3): #escape from initial point\n",
    "    distn = np.sqrt((xn_batch - xc_ini)**2 + (yn_batch - yc_ini)**2)\n",
    "    dist = np.sqrt((x_batch - xc_ini)**2 + (y_batch - yc_ini)**2)\n",
    "    r_batch = distn - dist\n",
    "elif (rcase == 4):\n",
    "    deltax = xn_batch - x_batch\n",
    "    deltay = yn_batch - y_batch\n",
    "    thetalo = 0.0*np.pi\n",
    "    thetaup = 1.0*np.pi\n",
    "    angle = np.arctan2(deltay,deltax)\n",
    "    r_batch = -0.001*np.ones(tfdata)\n",
    "    #r_batch[np.where(angle > thetalo and angle < thetaup)] = 1.0\n",
    "    for it in range(tfdata):\n",
    "      if(angle[it] < 0):\n",
    "        angle[it] += 2.0*np.pi\n",
    "      if(angle[it] > thetalo and angle[it] < thetaup):\n",
    "        r_batch[it] = 0.001 #np.sqrt(deltax[it]**2 + deltay[it]**2)\n",
    "    "
   ]
  },
  {
   "cell_type": "code",
   "execution_count": 151,
   "metadata": {
    "id": "mdTw20Wvhhe2"
   },
   "outputs": [
    {
     "name": "stdout",
     "output_type": "stream",
     "text": [
      "2 1\n"
     ]
    }
   ],
   "source": [
    "#from Swimmer_Analise_angle import (ComputeAngleStateBody, Nangs, opt_ang)\n",
    "\n",
    "min_angle_links = -np.pi/4.0\n",
    "max_angle_links = np.pi/4.0\n",
    "\n",
    "Nangs = 2\n",
    "delta_ang = 2*np.pi/Nangs\n",
    "opt_ang = 1\n",
    "\n",
    "def ComputeAngleStateBody(theta_head, internal_state, opt_ang):\n",
    "\n",
    "    if(opt_ang == 1):\n",
    "        angle_swimmer = theta_head\n",
    "    elif(opt_ang == 2):\n",
    "        angle_swimmer = 0.0\n",
    "        for i in range(nlinks):\n",
    "            if(internal_state[i] == 0):\n",
    "                xi = min_angle_links\n",
    "            else:\n",
    "                xi = max_angle_links\n",
    "            angle_swimmer += (nlinks - i)*xi / (nlinks+1)\n",
    "        angle_swimmer += theta_head\n",
    "\n",
    "    angle_aux = np.abs(angle_swimmer) - int(np.abs(angle_swimmer)/(2*np.pi))*2*np.pi\n",
    "    if(angle_swimmer < 0.0):\n",
    "        angle_aux = -angle_aux\n",
    "        \n",
    "    if(angle_aux < 0.0):\n",
    "        angle_swimmer += 2*np.pi\n",
    "        \n",
    "    thetap = angle_swimmer - int(angle_swimmer/(2*np.pi))*2*np.pi\n",
    "    itheta = int(thetap/delta_ang)\n",
    "    \n",
    "    return angle_swimmer, itheta\n",
    "\n",
    "print(Nangs, opt_ang)\n",
    "\n",
    "def QL_steps_sb(s_batch,sn_batch,a_batch,r_batch,alpha,gamma,replay_step,nreplay):\n",
    "  # Initilize QL matrix\n",
    "\n",
    "  nstates_glob = (2 ** nlinks) * Nangs\n",
    "  MQL  = np.zeros((nstates_glob,nactions))\n",
    "  MQLn = np.zeros((nstates_glob,nactions))\n",
    "  DMQL = []\n",
    "  RDMQL = []\n",
    "\n",
    "  # QL steps\n",
    "  for it in range(nqlsteps):   \n",
    "    \n",
    "    # Learning  #######################################################    \n",
    "    prev_state_dec          = s_batch[it]\n",
    "    next_action_dec         = a_batch[it]\n",
    "    next_state_dec          = sn_batch[it]\n",
    "    next_MQLmax             = np.max(MQL[next_state_dec,:])\n",
    "    next_MQLmax_inverse     = np.max(MQL[prev_state_dec,:])\n",
    "    current_MQLval          = MQL[prev_state_dec,next_action_dec]\n",
    "    current_MQLval_inverse  = MQL[prev_state_dec,next_action_dec]\n",
    "    current_reward          = r_batch[it]    \n",
    "\n",
    "    MQL[prev_state_dec,next_action_dec] = (1-alpha)*current_MQLval + \\\n",
    "      alpha*(current_reward + gamma*next_MQLmax)\n",
    "\n",
    "    MQL[next_state_dec,next_action_dec] = (1-alpha)*current_MQLval_inverse + \\\n",
    "      alpha*(-current_reward + gamma*next_MQLmax_inverse)   \n",
    "\n",
    "    if replay_step > 0 and it%replay_step == 0:\n",
    "      MQL, DMQL = replay_sb(MQL,s_batch,sn_batch,a_batch,r_batch,alpha,gamma,nreplay,DMQL)\n",
    "      #MQL, DMQL = replay_sb(MQL,s_batch[it-nbatch:it],sn_batch[it-nbatch:it],a_batch[it-nbatch:it],r_batch[it-nbatch:it],alpha,gamma,nreplay,DMQL)\n",
    "\n",
    "    DMQL.append(np.linalg.norm(MQL-MQLn))\n",
    "    RDMQL.append(np.linalg.norm(MQL-MQLn)/(np.linalg.norm(MQL)+1.0e-10))\n",
    "    MQLn = copy.deepcopy(MQL)    \n",
    "\n",
    "  return MQL, DMQL\n",
    "\n",
    "\n",
    "def replay_sb(MQL,s_batch,sn_batch,a_batch,r_batch,alpha,gamma,nreplay,DMQL):\n",
    " \n",
    "   MQLC = copy.deepcopy(MQL)\n",
    "   MQLn = copy.deepcopy(MQL)\n",
    "\n",
    "   for i in range(nreplay):     \n",
    "      rl = np.random.randint(s_batch.shape[0], size=1)[0]\n",
    "      prev_state_dec    = s_batch[rl]\n",
    "      next_action_dec   = a_batch[rl]\n",
    "      next_state_dec    = sn_batch[rl]\n",
    "      next_MQLmax       = np.max(MQLC[next_state_dec,:])\n",
    "      next_MQLmax_inv   = np.max(MQL[prev_state_dec,:])\n",
    "      current_MQLval    = MQLC[prev_state_dec,next_action_dec]\n",
    "      current_MQLval_inv= MQLC[prev_state_dec,next_action_dec]\n",
    "      current_reward    = r_batch[rl]\n",
    "      \n",
    "      MQLC[prev_state_dec,next_action_dec] = (1-alpha)*current_MQLval + \\\n",
    "         alpha*(current_reward + gamma*next_MQLmax)\n",
    "\n",
    "      MQLC[next_state_dec,next_action_dec] = (1-alpha)*current_MQLval_inv + \\\n",
    "         alpha*(-current_reward + gamma*next_MQLmax_inv)\n",
    "         \n",
    "      DMQL.append(DMQL.append(np.linalg.norm(MQLC-MQLn)/np.linalg.norm(MQLC-MQLn))) #np.max(MQLC-MQLn)\n",
    "      MQLn = copy.deepcopy(MQLC)\n",
    "   \n",
    "   return MQLC, DMQL  \n",
    "\n",
    "def ReadDeltasTables(ndeltas, nstates, nactions, filetable):            \n",
    "    \n",
    "    A = filetable\n",
    "    Deltas = []\n",
    "    for d in range(ndeltas):\n",
    "        Deltas.append(np.zeros(shape=(nstates, nactions)))\n",
    "        for state in range(nstates):\n",
    "            Deltas[d][state, :] = A[d * nstates + state, :]\n",
    "    return Deltas \n",
    "\n",
    "def find_gait_sb(state_dec, theta_ini, MQL):\n",
    "  vel = 0.0\n",
    "  slist_int = []\n",
    "  slist = []\n",
    "  alist = []\n",
    "  xlist = [xc_ini]\n",
    "  ylist = [yc_ini]\n",
    "  thetalist = [theta_ini]\n",
    "  current_state_dec = state_dec\n",
    "  Deltas = ReadDeltasTables(ndeltas, nstates, nactions, DELTAS)\n",
    "  current_disp = np.zeros(2)\n",
    "  k = 0\n",
    "  vel1 = vel2 = 0\n",
    "  aux = np.zeros(2)\n",
    "                 \n",
    "  for j in range(1000):\n",
    "    \n",
    "    action = np.zeros(nlinks, dtype=int)\n",
    "                 \n",
    "    aux_current = np.array([int(i) for i in np.binary_repr(current_state_dec,width=nlinks)])\n",
    "    \n",
    "    current_angle_swimmer, current_itheta  = ComputeAngleStateBody(thetalist[j], aux_current, opt_ang)\n",
    "    \n",
    "    if(current_itheta > 1):\n",
    "        raise Exception ('ooooooo')\n",
    "    current_state_dec_glob = current_state_dec + current_itheta  * nstates\n",
    "    \n",
    "    action[np.argmax(MQL[current_state_dec_glob,:])] = 1\n",
    "                     \n",
    "    action_dec = np.argmax(MQL[current_state_dec_glob,:])\n",
    "    \n",
    "    aux_state = np.remainder(aux_current+action,2*np.ones(nlinks, dtype=int))    \n",
    "        \n",
    "    next_state_dec = np.dot(aux_state,2**np.arange(nlinks-1,-1,-1,dtype=int))    \n",
    "    \n",
    "    if(j>99):\n",
    "      if (rcase == 1):\n",
    "        vel1 += (Deltas[2][current_state_dec, action.argmax()] - Deltas[2][next_state_dec, action.argmax()])/2\n",
    "      elif (rcase == 2 or rcase == 3 or rcase == 4):\n",
    "        Rmatrix = np.array([\n",
    "                            [np.cos(thetalist[j]), -np.sin(thetalist[j])],\n",
    "                            [np.sin(thetalist[j]),  np.cos(thetalist[j])],\n",
    "                           ])\n",
    "        current_disp[0] = Deltas[0][current_state_dec, action.argmax()]\n",
    "        current_disp[1] = Deltas[1][current_state_dec, action.argmax()]\n",
    "        aux = Rmatrix @ current_disp\n",
    "        if(j > 900):\n",
    "          vel1 += aux[0]\n",
    "          vel2 += aux[1]\n",
    "\n",
    "    xlist.append(xlist[j] + aux[0])\n",
    "    ylist.append(ylist[j] + aux[1])\n",
    "    thetalist.append(thetalist[j] + Deltas[2][current_state_dec, action.argmax()])\n",
    "    \n",
    "    slist.append(current_state_dec_glob)\n",
    "    slist_int.append(current_state_dec)\n",
    "    alist.append(action_dec)\n",
    "    current_state_dec = next_state_dec \n",
    "  \n",
    "  vel1 = vel1/100\n",
    "  vel2 = vel2/100\n",
    "  return slist[990:1000], alist[990:1000], vel1, vel2, xlist[900:1000], ylist[900:1000], thetalist[900:1000]\n",
    " \n",
    "  "
   ]
  },
  {
   "cell_type": "code",
   "execution_count": 152,
   "metadata": {
    "colab": {
     "base_uri": "https://localhost:8080/"
    },
    "id": "v8ZP8DQPqKab",
    "outputId": "b870bb9a-880c-4d59-a2ce-68ef28409777"
   },
   "outputs": [
    {
     "name": "stdout",
     "output_type": "stream",
     "text": [
      "alpha = 1.0, gamma = 1.000, dQ = 8.947964e-04, [11, 7, 11, 7, 11, 7, 11, 7, 11, 7], [0, 0, 0, 0, 0, 0, 0, 0, 0, 0], vel1 = 0.00366, vel2 = -0.00211, velmod = 0.00423\n",
      "alpha = 1.0, gamma = 0.990, dQ = 8.863018e-04, [11, 7, 11, 7, 11, 7, 11, 7, 11, 7], [0, 0, 0, 0, 0, 0, 0, 0, 0, 0], vel1 = 0.00366, vel2 = -0.00211, velmod = 0.00423\n",
      "alpha = 1.0, gamma = 0.900, dQ = 8.742472e-04, [11, 7, 11, 7, 11, 7, 11, 7, 11, 7], [0, 0, 0, 0, 0, 0, 0, 0, 0, 0], vel1 = 0.00366, vel2 = -0.00211, velmod = 0.00423\n",
      "alpha = 1.0, gamma = 0.700, dQ = 8.475806e-04, [11, 7, 11, 7, 11, 7, 11, 7, 11, 7], [0, 0, 0, 0, 0, 0, 0, 0, 0, 0], vel1 = 0.00366, vel2 = -0.00211, velmod = 0.00423\n",
      "alpha = 1.0, gamma = 0.500, dQ = 8.209139e-04, [11, 7, 11, 7, 11, 7, 11, 7, 11, 7], [0, 0, 0, 0, 0, 0, 0, 0, 0, 0], vel1 = 0.00366, vel2 = -0.00211, velmod = 0.00423\n",
      "alpha = 1.0, gamma = 0.100, dQ = 7.675806e-04, [11, 7, 11, 7, 11, 7, 11, 7, 11, 7], [0, 0, 0, 0, 0, 0, 0, 0, 0, 0], vel1 = 0.00366, vel2 = -0.00211, velmod = 0.00423\n",
      "alpha = 0.1, gamma = 1.000, dQ = 1.943707e-04, [8, 12, 8, 12, 8, 12, 8, 12, 8, 12], [0, 0, 0, 0, 0, 0, 0, 0, 0, 0], vel1 = 0.00323, vel2 = -0.00186, velmod = 0.00373\n",
      "alpha = 0.1, gamma = 0.990, dQ = 1.911505e-04, [8, 12, 8, 12, 8, 12, 8, 12, 8, 12], [0, 0, 0, 0, 0, 0, 0, 0, 0, 0], vel1 = 0.00323, vel2 = -0.00186, velmod = 0.00373\n",
      "alpha = 0.1, gamma = 0.900, dQ = 1.898133e-04, [8, 12, 8, 12, 8, 12, 8, 12, 8, 12], [0, 0, 0, 0, 0, 0, 0, 0, 0, 0], vel1 = 0.00323, vel2 = -0.00186, velmod = 0.00373\n",
      "alpha = 0.1, gamma = 0.700, dQ = 1.862294e-04, [8, 12, 8, 12, 8, 12, 8, 12, 8, 12], [0, 0, 0, 0, 0, 0, 0, 0, 0, 0], vel1 = 0.00323, vel2 = -0.00186, velmod = 0.00373\n",
      "alpha = 0.1, gamma = 0.500, dQ = 1.828321e-04, [8, 12, 8, 12, 8, 12, 8, 12, 8, 12], [0, 0, 0, 0, 0, 0, 0, 0, 0, 0], vel1 = 0.00323, vel2 = -0.00186, velmod = 0.00373\n",
      "alpha = 0.1, gamma = 0.100, dQ = 1.764763e-04, [8, 12, 8, 12, 8, 12, 8, 12, 8, 12], [0, 0, 0, 0, 0, 0, 0, 0, 0, 0], vel1 = 0.00323, vel2 = -0.00186, velmod = 0.00373\n",
      "alpha = 0.01, gamma = 1.000, dQ = 1.995036e-05, [11, 10, 11, 10, 11, 10, 11, 10, 11, 10], [2, 2, 2, 2, 2, 2, 2, 2, 2, 2], vel1 = -0.00306, vel2 = 0.00136, velmod = 0.00335\n",
      "alpha = 0.01, gamma = 0.990, dQ = 1.915318e-05, [11, 10, 11, 10, 11, 10, 11, 10, 11, 10], [2, 2, 2, 2, 2, 2, 2, 2, 2, 2], vel1 = -0.00306, vel2 = 0.00136, velmod = 0.00335\n",
      "alpha = 0.01, gamma = 0.900, dQ = 1.869091e-05, [8, 12, 8, 12, 8, 12, 8, 12, 8, 12], [0, 0, 0, 0, 0, 0, 0, 0, 0, 0], vel1 = 0.00323, vel2 = -0.00186, velmod = 0.00373\n",
      "alpha = 0.01, gamma = 0.700, dQ = 1.841305e-05, [8, 12, 8, 12, 8, 12, 8, 12, 8, 12], [0, 0, 0, 0, 0, 0, 0, 0, 0, 0], vel1 = 0.00323, vel2 = -0.00186, velmod = 0.00373\n",
      "alpha = 0.01, gamma = 0.500, dQ = 1.827036e-05, [8, 12, 8, 12, 8, 12, 8, 12, 8, 12], [0, 0, 0, 0, 0, 0, 0, 0, 0, 0], vel1 = 0.00323, vel2 = -0.00186, velmod = 0.00373\n",
      "alpha = 0.01, gamma = 0.100, dQ = 1.805738e-05, [8, 12, 8, 12, 8, 12, 8, 12, 8, 12], [0, 0, 0, 0, 0, 0, 0, 0, 0, 0], vel1 = 0.00323, vel2 = -0.00186, velmod = 0.00373\n"
     ]
    }
   ],
   "source": [
    "gammalist = [0.9999, 0.99,  0.9, 0.7, 0.5, 0.1]\n",
    "alphalist = [1.0, 0.1, 0.01]\n",
    "\n",
    "nreplay = 100\n",
    "replay_step = 0\n",
    "\n",
    "for alpha in alphalist:\n",
    "  for gamma in gammalist:\n",
    "    MQL, DMQL = QL_steps_sb(s_batch,sn_batch,a_batch,r_batch,alpha,gamma,replay_step,nreplay)\n",
    "    theta_ini = theta_batch[-1]\n",
    "    prev_state_dec_glob  = s_batch[-1]\n",
    "       \n",
    "    aux_current = np.zeros(nlinks)\n",
    "    prev_angle_state, prev_itheta  = ComputeAngleStateBody(theta_ini, aux_current, opt_ang)\n",
    "    \n",
    "    prev_state_dec = prev_state_dec_glob - int(prev_state_dec_glob/nstates)*nstates\n",
    "    \n",
    "    slist, alist, vel1, vel2, xlist, ylist, thetalist = find_gait_sb(prev_state_dec, theta_ini, MQL)\n",
    "    FDMQL = scipy.signal.savgol_filter(DMQL,15,0)    \n",
    "    print(f'alpha = {alpha}, gamma = {gamma:.3f}, dQ = {FDMQL[-1]:e}, {slist}, {alist}, vel1 = {vel1:.5f}, vel2 = {vel2:.5f}, velmod = {np.sqrt(vel1**2+vel2**2):.5f}')    \n",
    " \n",
    "    "
   ]
  },
  {
   "cell_type": "code",
   "execution_count": 141,
   "metadata": {
    "colab": {
     "base_uri": "https://localhost:8080/",
     "height": 314
    },
    "id": "GjslYIIh1aG1",
    "outputId": "56fc1001-c0a7-412b-f936-35a91fa5b8ac"
   },
   "outputs": [
    {
     "name": "stdout",
     "output_type": "stream",
     "text": [
      "alpha = 1.0, gamma = 0.990, dQ = 1.886729e+00, [11, 10, 14, 12, 13, 9, 11, 10, 14, 12], [2, 0, 1, 2, 0, 1, 2, 0, 1, 2], vel1 = -0.02444, vel2 = -0.03949, velmod = 0.04644\n"
     ]
    },
    {
     "data": {
      "image/png": "[encoded data removed]",
      "text/plain": [
       "<matplotlib.figure.Figure at 0x7f18b90966a0>"
      ]
     },
     "metadata": {
      "needs_background": "light"
     },
     "output_type": "display_data"
    }
   ],
   "source": [
    "alpha = 1.0\n",
    "gamma = 0.99\n",
    "\n",
    "MQL, DMQL = QL_steps_sb(s_batch,sn_batch,a_batch,r_batch,alpha,gamma,replay_step,nreplay)\n",
    "theta_ini = theta_batch[-1]\n",
    "prev_state_dec_glob  = s_batch[-1]\n",
    "       \n",
    "aux_current = np.array(nlinks)\n",
    "prev_angle_state, prev_itheta  = ComputeAngleStateBody(theta_ini, aux_current, opt_ang)\n",
    "   \n",
    "prev_state_dec = prev_state_dec_glob - int(prev_state_dec_glob/nstates)*nstates\n",
    "   \n",
    "slist, alist, vel1, vel2, xlist, ylist, thetalist = find_gait_sb(prev_state_dec, theta_ini, MQL)\n",
    "FDMQL = scipy.signal.savgol_filter(DMQL,15,0)    \n",
    "print(f'alpha = {alpha}, gamma = {gamma:.3f}, dQ = {FDMQL[-1]:e}, {slist}, {alist}, vel1 = {vel1:.5f}, vel2 = {vel2:.5f}, velmod = {np.sqrt(vel1**2+vel2**2):.5f}')    \n",
    " \n",
    "fig, axs = plt.subplots(1, 1)\n",
    "axs.plot(xlist[:-1], ylist[:-1])\n",
    "axs.set_aspect('equal', 'box')\n",
    "axs.grid()\n",
    "#axs.set(xlim=(210, 240), ylim=(210, 240))\n",
    "axs.set_title('Trajectory', fontsize=10)\n",
    "fig.tight_layout()\n",
    "plt.show()"
   ]
  },
  {
   "cell_type": "code",
   "execution_count": 143,
   "metadata": {},
   "outputs": [
    {
     "data": {
      "image/png": "[encoded data removed]",
      "text/plain": [
       "<matplotlib.figure.Figure at 0x7f18b900a8d0>"
      ]
     },
     "metadata": {
      "needs_background": "light"
     },
     "output_type": "display_data"
    }
   ],
   "source": [
    "fig, axs = plt.subplots(1, 1)\n",
    "axs.plot(xlist[70:-1], ylist[70:-1])\n",
    "axs.set_aspect('equal', 'box')\n",
    "axs.grid()\n",
    "#axs.set(xlim=(210, 240), ylim=(210, 240))\n",
    "axs.set_title('Trajectory', fontsize=10)\n",
    "fig.tight_layout()\n",
    "plt.show()"
   ]
  },
  {
   "cell_type": "code",
   "execution_count": 18,
   "metadata": {},
   "outputs": [
    {
     "name": "stdout",
     "output_type": "stream",
     "text": [
      "[221.25619521649017, 221.46706074175236, 221.61445718116724, 221.38662318130474, 221.34438533940843, 221.23135941390527, 221.18930690486354, 221.40598477331196, 221.5584058591268, 221.32231407347706, 221.27338650791572, 221.17007798483448, 221.12264673187863] [231.35463627778768, 230.98502323299323, 230.6657762673438, 231.190330853984, 231.6141540668715, 230.9998915783734, 231.3407224152391, 230.97448646130914, 230.65760770211634, 231.17849781971054, 231.6016009329094, 230.98562965624913, 231.32575367645106]\n"
     ]
    },
    {
     "data": {
      "image/png": "[encoded data removed]",
      "text/plain": [
       "<matplotlib.figure.Figure at 0x7fdb1642d518>"
      ]
     },
     "metadata": {
      "needs_background": "light"
     },
     "output_type": "display_data"
    }
   ],
   "source": [
    "fig, axs = plt.subplots(1, 1)\n",
    "axs.plot(xlist[86:-1], ylist[86:-1], '-o')\n",
    "print(xlist[86:-1], ylist[86:-1])\n",
    "axs.set_aspect('equal', 'box')\n",
    "axs.grid()\n",
    "#axs.set(xlim=(210, 240), ylim=(210, 240))\n",
    "axs.set_title('Trajectory', fontsize=10)\n",
    "fig.tight_layout()\n",
    "plt.show()"
   ]
  },
  {
   "cell_type": "code",
   "execution_count": 5,
   "metadata": {
    "colab": {
     "base_uri": "https://localhost:8080/"
    },
    "id": "KSTkdV1diPIE",
    "outputId": "48d32adf-482c-4115-9c99-762a18f79c4a"
   },
   "outputs": [
    {
     "name": "stdout",
     "output_type": "stream",
     "text": [
      "0\n",
      "1\n",
      "2\n",
      "3\n",
      "4\n",
      "5\n",
      "6\n",
      "7\n",
      "0\n",
      "1\n",
      "2\n",
      "3\n",
      "4\n",
      "5\n",
      "6\n",
      "7\n",
      "0\n",
      "1\n",
      "2\n",
      "{(5, 2, 1, 4, 7, 8): 0, (2, 1, 4, 7, 8, 1): 1, (1, 4, 7, 8, 1, 5): 2, (4, 7, 8, 1, 5, 5): 3, (7, 8, 1, 5, 5, 2): 4, (8, 1, 5, 5, 2, 1): 5, (1, 5, 5, 2, 1, 4): 6, (5, 5, 2, 1, 4, 7): 7}\n"
     ]
    }
   ],
   "source": [
    "import numpy as np\n",
    "A=[5,2,1,4,7,8,1,5,5,2,1,4,7,8,1,5,5,2,1,4,7,8,1,5,5,2,1,4,7,8,1,5]\n",
    "S=dict()\n",
    "L=7+1\n",
    "for i in range(len(A)-L+1):\n",
    "    key=tuple(A[i:i+L])\n",
    "    if key in S:\n",
    "        print (S[key])\n",
    "    else:\n",
    "        S[key] = i\n",
    "print(S)"
   ]
  }
 ],
 "metadata": {
  "colab": {
   "collapsed_sections": [],
   "include_colab_link": true,
   "name": "QLAnalis_roberto.ipynb",
   "provenance": []
  },
  "kernelspec": {
   "display_name": "Python 3",
   "language": "python",
   "name": "python3"
  },
  "language_info": {
   "codemirror_mode": {
    "name": "ipython",
    "version": 3
   },
   "file_extension": ".py",
   "mimetype": "text/x-python",
   "name": "python",
   "nbconvert_exporter": "python",
   "pygments_lexer": "ipython3",
   "version": "3.6.9"
  },
  "latex_envs": {
   "LaTeX_envs_menu_present": true,
   "autoclose": false,
   "autocomplete": true,
   "bibliofile": "biblio.bib",
   "cite_by": "apalike",
   "current_citInitial": 1,
   "eqLabelWithNumbers": true,
   "eqNumInitial": 1,
   "hotkeys": {
    "equation": "Ctrl-E",
    "itemize": "Ctrl-I"
   },
   "labels_anchors": false,
   "latex_user_defs": false,
   "report_style_numbering": false,
   "user_envs_cfg": false
  },
  "toc": {
   "base_numbering": 1,
   "nav_menu": {},
   "number_sections": true,
   "sideBar": true,
   "skip_h1_title": false,
   "title_cell": "Table of Contents",
   "title_sidebar": "Contents",
   "toc_cell": false,
   "toc_position": {},
   "toc_section_display": true,
   "toc_window_display": true
  }
 },
 "nbformat": 4,
 "nbformat_minor": 1
}
